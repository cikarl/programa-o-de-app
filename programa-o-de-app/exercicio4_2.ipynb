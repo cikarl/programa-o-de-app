{
  "nbformat": 4,
  "nbformat_minor": 0,
  "metadata": {
    "colab": {
      "provenance": []
    },
    "kernelspec": {
      "name": "python3",
      "display_name": "Python 3"
    },
    "language_info": {
      "name": "python"
    }
  },
  "cells": [
    {
      "cell_type": "code",
      "execution_count": 37,
      "metadata": {
        "id": "6iybqV5QKMLv"
      },
      "outputs": [],
      "source": [
        "class Carro:\n",
        "  def __init__(self, marca, modelo, ano):\n",
        "    self.marca = marca\n",
        "    self.modelo = modelo\n",
        "    self.ano = ano\n",
        "    self.ligado = False\n",
        "  def ligar(self):\n",
        "    self.ligado = True\n",
        "    return f\"O carro {self.marca} {self.modelo} está agora ligado.\"\n",
        "  def desligar(self):\n",
        "    self.ligado = False\n",
        "    return f\"O carro {self.marca} {self.modelo} está agora desligado.\"\n",
        "  def status(self):\n",
        "    estado = \"ligado\" if self.ligado else \"desligado\"\n",
        "    return f\"O carro {self.marca} {self.modelo} está {estado}.\"\n",
        "  def ano_veiculo(self):\n",
        "    return f\"O carro {self.marca} {self.modelo} é do ano {self.ano}.\"\n",
        "  def atualizar_ano(self, novo_ano):\n",
        "        \"\"\"Atualiza o ano do carro.\"\"\"\n",
        "        self.ano = novo_ano\n"
      ]
    },
    {
      "cell_type": "code",
      "source": [
        "carro1 = Carro(\"Ford\",\"Focus\", 2020)"
      ],
      "metadata": {
        "id": "1pcaV65sKZs0"
      },
      "execution_count": 39,
      "outputs": []
    },
    {
      "cell_type": "code",
      "source": [
        "carro1.ligar()\n"
      ],
      "metadata": {
        "colab": {
          "base_uri": "https://localhost:8080/",
          "height": 35
        },
        "id": "neawwipAPSU-",
        "outputId": "0917beb9-f8e6-42fc-911b-a402c00ff6f7"
      },
      "execution_count": 40,
      "outputs": [
        {
          "output_type": "execute_result",
          "data": {
            "text/plain": [
              "'O carro Ford Focus está agora ligado.'"
            ],
            "application/vnd.google.colaboratory.intrinsic+json": {
              "type": "string"
            }
          },
          "metadata": {},
          "execution_count": 40
        }
      ]
    },
    {
      "cell_type": "code",
      "source": [
        "carro1.desligar()"
      ],
      "metadata": {
        "colab": {
          "base_uri": "https://localhost:8080/",
          "height": 35
        },
        "id": "nETSn_8ISn1-",
        "outputId": "55b2e533-15a5-4707-cf29-2375320b78e1"
      },
      "execution_count": 41,
      "outputs": [
        {
          "output_type": "execute_result",
          "data": {
            "text/plain": [
              "'O carro Ford Focus está agora desligado.'"
            ],
            "application/vnd.google.colaboratory.intrinsic+json": {
              "type": "string"
            }
          },
          "metadata": {},
          "execution_count": 41
        }
      ]
    },
    {
      "cell_type": "code",
      "source": [
        "carro1.status()"
      ],
      "metadata": {
        "id": "jFL9RL2QSym3",
        "outputId": "2b5f7181-c71d-43d1-b284-d54b9474cf8e",
        "colab": {
          "base_uri": "https://localhost:8080/",
          "height": 35
        }
      },
      "execution_count": 42,
      "outputs": [
        {
          "output_type": "execute_result",
          "data": {
            "text/plain": [
              "'O carro Ford Focus está desligado.'"
            ],
            "application/vnd.google.colaboratory.intrinsic+json": {
              "type": "string"
            }
          },
          "metadata": {},
          "execution_count": 42
        }
      ]
    },
    {
      "cell_type": "code",
      "source": [
        "carro1.ano_veiculo()"
      ],
      "metadata": {
        "id": "TLFuSwSuTCD2",
        "outputId": "04abfd7c-36e0-4f9a-d256-a1d2e32af4cb",
        "colab": {
          "base_uri": "https://localhost:8080/",
          "height": 35
        }
      },
      "execution_count": 43,
      "outputs": [
        {
          "output_type": "execute_result",
          "data": {
            "text/plain": [
              "'O carro Ford Focus é do ano 2020.'"
            ],
            "application/vnd.google.colaboratory.intrinsic+json": {
              "type": "string"
            }
          },
          "metadata": {},
          "execution_count": 43
        }
      ]
    },
    {
      "cell_type": "code",
      "source": [
        "carro2 = Carro(\"Toyota\",\"Corolla\", 2022)"
      ],
      "metadata": {
        "id": "iwney-9zTD_m"
      },
      "execution_count": 44,
      "outputs": []
    },
    {
      "cell_type": "code",
      "source": [
        "carro1.ligar()\n",
        "print(carro1.status())\n",
        "print(carro2.status())"
      ],
      "metadata": {
        "id": "hmfGAUYzTIcO",
        "outputId": "a363f072-9729-444b-8695-4d3658b0c04a",
        "colab": {
          "base_uri": "https://localhost:8080/"
        }
      },
      "execution_count": 45,
      "outputs": [
        {
          "output_type": "stream",
          "name": "stdout",
          "text": [
            "O carro Ford Focus está ligado.\n",
            "O carro Toyota Corolla está desligado.\n"
          ]
        }
      ]
    },
    {
      "cell_type": "code",
      "source": [
        "carro2.atualizar_ano(2023)\n",
        "carro2.ano_veiculo()"
      ],
      "metadata": {
        "id": "mvYAsWFsTutU",
        "outputId": "6844f778-8fde-44f5-c93d-67958c39adbc",
        "colab": {
          "base_uri": "https://localhost:8080/",
          "height": 35
        }
      },
      "execution_count": 47,
      "outputs": [
        {
          "output_type": "execute_result",
          "data": {
            "text/plain": [
              "'O carro Toyota Corolla é do ano 2023.'"
            ],
            "application/vnd.google.colaboratory.intrinsic+json": {
              "type": "string"
            }
          },
          "metadata": {},
          "execution_count": 47
        }
      ]
    },
    {
      "cell_type": "code",
      "source": [
        "carro1.desligar()\n",
        "carro1.status()\n"
      ],
      "metadata": {
        "id": "euiq2g4GVNNa",
        "outputId": "90e94d55-fad4-4260-ce5c-b9f64370d18a",
        "colab": {
          "base_uri": "https://localhost:8080/",
          "height": 35
        }
      },
      "execution_count": 48,
      "outputs": [
        {
          "output_type": "execute_result",
          "data": {
            "text/plain": [
              "'O carro Ford Focus está desligado.'"
            ],
            "application/vnd.google.colaboratory.intrinsic+json": {
              "type": "string"
            }
          },
          "metadata": {},
          "execution_count": 48
        }
      ]
    }
  ]
}