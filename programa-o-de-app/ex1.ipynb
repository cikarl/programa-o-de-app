{
  "nbformat": 4,
  "nbformat_minor": 0,
  "metadata": {
    "colab": {
      "provenance": []
    },
    "kernelspec": {
      "name": "python3",
      "display_name": "Python 3"
    },
    "language_info": {
      "name": "python"
    }
  },
  "cells": [
    {
      "cell_type": "code",
      "execution_count": null,
      "metadata": {
        "id": "WntVwSNB1-o8"
      },
      "outputs": [],
      "source": [
        "total = 0\n",
        "while total < 50:\n",
        "    numero = int(input(\"Digite um numero: \"))\n",
        "    total =+ numero + total\n",
        "    print(\"O total é:\",total)\n"
      ]
    },
    {
      "cell_type": "code",
      "source": [
        "n1 = int(input(\"Digite o primeiro numero: \"))\n",
        "n2 = int(input(\"Digite o segundo numero: \"))\n",
        "n3 = int(input(\"Digite o terceiro numero: \"))\n",
        "print(\"A resposta é: \",(n1+n2)*n3)"
      ],
      "metadata": {
        "id": "RtB2hrEk9Qy8"
      },
      "execution_count": null,
      "outputs": []
    },
    {
      "cell_type": "code",
      "source": [
        "numero = int(input(\"Digite um numero: \"))\n",
        "if numero <10 :\n",
        "    print(\"Muito baixo\")\n",
        "elif numero >=10 and numero <=20:\n",
        "    print(\"Correto\")\n",
        "else:\n",
        "    print(\"Muito alto\")"
      ],
      "metadata": {
        "id": "vo6jO05GHM1e"
      },
      "execution_count": null,
      "outputs": []
    },
    {
      "cell_type": "code",
      "source": [
        "numero = int(input(\"Digite um numero menor que 20: \"))\n",
        "if numero >=20:\n",
        "    print(\"Muito alto\")\n",
        "else:\n",
        "    print(\"Obrigado\")"
      ],
      "metadata": {
        "id": "Y372nfHIILTc"
      },
      "execution_count": null,
      "outputs": []
    },
    {
      "cell_type": "code",
      "source": [
        "numero = int(input(\"Digite um numero menor que 50: \"))\n",
        "if numero >=50:\n",
        "    print(\"Muito alto\")\n",
        "else:\n",
        "  total = 51\n",
        "while total > numero:\n",
        "   total= total-1\n",
        "   print(total)"
      ],
      "metadata": {
        "id": "nGLN6zvhIxQC"
      },
      "execution_count": null,
      "outputs": []
    },
    {
      "cell_type": "code",
      "source": [
        "numero = int(input(\"Digite um numero menor que 50: \"))\n",
        "if numero <=50:\n",
        "  for i in range(50,numero,-1):\n",
        "    print(i)\n",
        "  else:\n",
        "    print(\"o numero digirado é\",numero)"
      ],
      "metadata": {
        "id": "zyLpkHvOQQNt"
      },
      "execution_count": null,
      "outputs": []
    },
    {
      "cell_type": "code",
      "source": [],
      "metadata": {
        "id": "uLDg6_-PTOtq"
      },
      "execution_count": null,
      "outputs": []
    }
  ]
}