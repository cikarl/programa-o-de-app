{
 "cells": [
  {
   "cell_type": "code",
   "execution_count": 28,
   "metadata": {},
   "outputs": [],
   "source": [
    "import pandas as pd\n",
    "import numpy as np"
   ]
  },
  {
   "cell_type": "code",
   "execution_count": 29,
   "metadata": {},
   "outputs": [],
   "source": [
    "\n",
    "num_rows = 56\n",
    "data = {\n",
    "    'Produto': [f'Produto_(i)' for i in range(1, num_rows + 1)],\n",
    "    'Categoria': np.random.choice(['Televisão', 'Computador', 'Celular','Tablet','Impressora'],size=num_rows),\n",
    "    'Preco': np.random.uniform(100.0, 2000.0, size=num_rows).round(2),\n",
    "    'Quantidade_estoque': np.random.randint(1, 50, size=num_rows),\n",
    "    'Quantidade_vendida': np.random.randint(1, 50, size=num_rows)\n",
    "}\n",
    "df = pd.DataFrame(data)\n"
   ]
  },
  {
   "cell_type": "code",
   "execution_count": 30,
   "metadata": {},
   "outputs": [],
   "source": [
    "df ['multiplicar']= df['Preco'] * df['Quantidade_vendida']\n"
   ]
  },
  {
   "cell_type": "code",
   "execution_count": 31,
   "metadata": {},
   "outputs": [],
   "source": [
    "def mult (x):\n",
    "    return x['Preco'] * x['Quantidade_vendida'] \n",
    "\n",
    "df['total']=df.apply(mult,axis=1)"
   ]
  },
  {
   "cell_type": "code",
   "execution_count": 32,
   "metadata": {},
   "outputs": [
    {
     "data": {
      "text/plain": [
       "np.float64(21773.035)"
      ]
     },
     "execution_count": 32,
     "metadata": {},
     "output_type": "execute_result"
    }
   ],
   "source": [
    "df['total'].min()\n",
    "df['total'].max()\n",
    "df['total'].std()\n",
    "df['total'].median()"
   ]
  },
  {
   "cell_type": "code",
   "execution_count": 40,
   "metadata": {},
   "outputs": [],
   "source": [
    "df_filtrado = df[(df['Categoria']=='Computador')]\n",
    "df_filtrado2 = df[(df['Preco']<500)&(df['Categoria']=='Computador')]\n",
    "df_filtrado3 = df[(df['Quantidade_estoque']<40)|(df['Categoria']=='Impressora')]\n"
   ]
  },
  {
   "cell_type": "code",
   "execution_count": 44,
   "metadata": {},
   "outputs": [],
   "source": [
    "import pandas as pd\n",
    "caminho = (r'C:\\Users\\cibele_karl\\Desktop\\planilha.xlsx')\n",
    "df.to_excel(caminho)\n"
   ]
  }
 ],
 "metadata": {
  "interpreter": {
   "hash": "ac59ebe37160ed0dfa835113d9b8498d9f09ceb179beaac4002f036b9467c963"
  },
  "kernelspec": {
   "display_name": "Python 3.9.7 64-bit (system)",
   "language": "python",
   "name": "python3"
  },
  "language_info": {
   "codemirror_mode": {
    "name": "ipython",
    "version": 3
   },
   "file_extension": ".py",
   "mimetype": "text/x-python",
   "name": "python",
   "nbconvert_exporter": "python",
   "pygments_lexer": "ipython3",
   "version": "3.9.7"
  },
  "orig_nbformat": 4
 },
 "nbformat": 4,
 "nbformat_minor": 2
}
